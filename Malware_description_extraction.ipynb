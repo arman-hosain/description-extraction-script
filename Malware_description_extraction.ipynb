{
  "cells": [
    {
      "cell_type": "code",
      "execution_count": 8,
      "metadata": {
        "colab": {
          "base_uri": "https://localhost:8080/"
        },
        "id": "0AIgDtBmxaOi",
        "outputId": "3f3b45fb-9aa9-4184-ff62-302f95a68225"
      },
      "outputs": [
        {
          "name": "stdout",
          "output_type": "stream",
          "text": [
            "Collecting openai\n",
            "  Downloading openai-1.51.0-py3-none-any.whl.metadata (24 kB)\n",
            "Requirement already satisfied: anyio<5,>=3.5.0 in /usr/local/lib/python3.10/dist-packages (from openai) (3.7.1)\n",
            "Requirement already satisfied: distro<2,>=1.7.0 in /usr/lib/python3/dist-packages (from openai) (1.7.0)\n",
            "Collecting httpx<1,>=0.23.0 (from openai)\n",
            "  Downloading httpx-0.27.2-py3-none-any.whl.metadata (7.1 kB)\n",
            "Collecting jiter<1,>=0.4.0 (from openai)\n",
            "  Downloading jiter-0.5.0-cp310-cp310-manylinux_2_17_x86_64.manylinux2014_x86_64.whl.metadata (3.6 kB)\n",
            "Requirement already satisfied: pydantic<3,>=1.9.0 in /usr/local/lib/python3.10/dist-packages (from openai) (2.9.2)\n",
            "Requirement already satisfied: sniffio in /usr/local/lib/python3.10/dist-packages (from openai) (1.3.1)\n",
            "Requirement already satisfied: tqdm>4 in /usr/local/lib/python3.10/dist-packages (from openai) (4.66.5)\n",
            "Requirement already satisfied: typing-extensions<5,>=4.11 in /usr/local/lib/python3.10/dist-packages (from openai) (4.12.2)\n",
            "Requirement already satisfied: idna>=2.8 in /usr/local/lib/python3.10/dist-packages (from anyio<5,>=3.5.0->openai) (3.10)\n",
            "Requirement already satisfied: exceptiongroup in /usr/local/lib/python3.10/dist-packages (from anyio<5,>=3.5.0->openai) (1.2.2)\n",
            "Requirement already satisfied: certifi in /usr/local/lib/python3.10/dist-packages (from httpx<1,>=0.23.0->openai) (2024.8.30)\n",
            "Collecting httpcore==1.* (from httpx<1,>=0.23.0->openai)\n",
            "  Downloading httpcore-1.0.6-py3-none-any.whl.metadata (21 kB)\n",
            "Collecting h11<0.15,>=0.13 (from httpcore==1.*->httpx<1,>=0.23.0->openai)\n",
            "  Downloading h11-0.14.0-py3-none-any.whl.metadata (8.2 kB)\n",
            "Requirement already satisfied: annotated-types>=0.6.0 in /usr/local/lib/python3.10/dist-packages (from pydantic<3,>=1.9.0->openai) (0.7.0)\n",
            "Requirement already satisfied: pydantic-core==2.23.4 in /usr/local/lib/python3.10/dist-packages (from pydantic<3,>=1.9.0->openai) (2.23.4)\n",
            "Downloading openai-1.51.0-py3-none-any.whl (383 kB)\n",
            "\u001b[2K   \u001b[90m━━━━━━━━━━━━━━━━━━━━━━━━━━━━━━━━━━━━━━━━\u001b[0m \u001b[32m383.5/383.5 kB\u001b[0m \u001b[31m7.3 MB/s\u001b[0m eta \u001b[36m0:00:00\u001b[0m\n",
            "\u001b[?25hDownloading httpx-0.27.2-py3-none-any.whl (76 kB)\n",
            "\u001b[2K   \u001b[90m━━━━━━━━━━━━━━━━━━━━━━━━━━━━━━━━━━━━━━━━\u001b[0m \u001b[32m76.4/76.4 kB\u001b[0m \u001b[31m7.1 MB/s\u001b[0m eta \u001b[36m0:00:00\u001b[0m\n",
            "\u001b[?25hDownloading httpcore-1.0.6-py3-none-any.whl (78 kB)\n",
            "\u001b[2K   \u001b[90m━━━━━━━━━━━━━━━━━━━━━━━━━━━━━━━━━━━━━━━━\u001b[0m \u001b[32m78.0/78.0 kB\u001b[0m \u001b[31m7.2 MB/s\u001b[0m eta \u001b[36m0:00:00\u001b[0m\n",
            "\u001b[?25hDownloading jiter-0.5.0-cp310-cp310-manylinux_2_17_x86_64.manylinux2014_x86_64.whl (318 kB)\n",
            "\u001b[2K   \u001b[90m━━━━━━━━━━━━━━━━━━━━━━━━━━━━━━━━━━━━━━━━\u001b[0m \u001b[32m318.9/318.9 kB\u001b[0m \u001b[31m25.0 MB/s\u001b[0m eta \u001b[36m0:00:00\u001b[0m\n",
            "\u001b[?25hDownloading h11-0.14.0-py3-none-any.whl (58 kB)\n",
            "\u001b[2K   \u001b[90m━━━━━━━━━━━━━━━━━━━━━━━━━━━━━━━━━━━━━━━━\u001b[0m \u001b[32m58.3/58.3 kB\u001b[0m \u001b[31m5.0 MB/s\u001b[0m eta \u001b[36m0:00:00\u001b[0m\n",
            "\u001b[?25hInstalling collected packages: jiter, h11, httpcore, httpx, openai\n",
            "Successfully installed h11-0.14.0 httpcore-1.0.6 httpx-0.27.2 jiter-0.5.0 openai-1.51.0\n"
          ]
        }
      ],
      "source": [
        "!pip install openai"
      ]
    },
    {
      "cell_type": "code",
      "execution_count": 20,
      "metadata": {
        "id": "gn_hPQ9adGMJ"
      },
      "outputs": [],
      "source": [
        "def get_description_from_chatgpt(family_name):\n",
        "  completion = client.chat.completions.create(\n",
        "    model=\"gpt-4o\",\n",
        "    messages=[\n",
        "        {\"role\": \"system\", \"content\": \"You are a helpful assistant.\"},\n",
        "        {\n",
        "            \"role\": \"user\",\n",
        "            \"content\": f\"what are the features of {family_name} family  in detail and in one para without the history\"\n",
        "        }\n",
        "    ]\n",
        "    )\n",
        "  return completion.choices[0].message.content"
      ]
    },
    {
      "cell_type": "code",
      "execution_count": 16,
      "metadata": {
        "colab": {
          "base_uri": "https://localhost:8080/"
        },
        "id": "ke6ZkVYDYjV8",
        "outputId": "b09eb283-775b-44dc-d2b1-bd23a48fe93d"
      },
      "outputs": [
        {
          "name": "stdout",
          "output_type": "stream",
          "text": [
            "The WannaCry ransomware family is characterized by its utilization of the EternalBlue exploit, a vulnerability in Microsoft's SMB protocol, allowing it to spread rapidly across networks without user interaction. Upon infection, WannaCry encrypts files on the affected systems using strong encryption algorithms, appending a specific extension to affected files. It then displays a ransom note demanding payment in Bitcoin to decrypt the files, giving users a deadline before permanently locking or deleting the files. Notably, WannaCry has a built-in \"kill switch\" domain check, which, when registered, can stop its propagation. This ransomware also attempts to spread to other systems on the same network and has a worm-like functionality, making it highly potent and damaging by affecting large numbers of computers in a short span of time. Security patches for the exploited SMB vulnerability and proper network segmentation are key countermeasures against its spread.\n"
          ]
        }
      ],
      "source": [
        "from openai import OpenAI\n",
        "\n",
        "client = OpenAI(api_key=\"your-gpt-api-key\")"
      ]
    },
    {
      "cell_type": "code",
      "execution_count": 21,
      "metadata": {
        "colab": {
          "base_uri": "https://localhost:8080/"
        },
        "id": "qdMUgXXdBPQ4",
        "outputId": "363979b1-4653-4110-8051-4e65c345a919"
      },
      "outputs": [
        {
          "name": "stdout",
          "output_type": "stream",
          "text": [
            "['WannaCry', 'Petya/NotPetya', 'Locky', 'Ryuk', 'Cerber', 'Emotet', 'Zeus (Zbot)', 'TrickBot', 'Dridex', 'njRAT', 'DarkComet', 'Mirai', 'Necurs', 'Srizbi', 'Kelihos', 'Conficker', 'SQL Slammer', 'Sasser', 'ILOVEYOU', 'Fireball', 'Gator', 'Virtumonde', 'Elex', 'FinFisher', 'Pegasus', 'AgentTesla', 'HawkEye', 'Alureon (TDL4)', 'Necurs', 'ZeroAccess', 'Powershell Empire', 'Furtim', 'Kovter', 'APT28 (Fancy Bear)', 'APT29 (Cozy Bear)', 'Lazarus Group', 'Carbanak']\n"
          ]
        }
      ],
      "source": [
        "import pandas as pd\n",
        "df = pd.read_csv('/content/malware_families_list.csv')\n",
        "\n",
        "\n",
        "\n",
        "family_list = df['Family'].tolist()\n",
        "family_description_list = []\n",
        "print(family_list)\n",
        "\n",
        "for family_name in family_list:\n",
        "  family_description_list.append(get_description_from_chatgpt(family_name))"
      ]
    },
    {
      "cell_type": "code",
      "execution_count": 22,
      "metadata": {
        "colab": {
          "base_uri": "https://localhost:8080/"
        },
        "id": "rtTPdsQUTFSi",
        "outputId": "1b434382-38b7-46ff-ce81-8b3538f491ec"
      },
      "outputs": [
        {
          "name": "stdout",
          "output_type": "stream",
          "text": [
            "                Family                                 Family Description\n",
            "0             WannaCry  The WannaCry ransomware family exploits a vuln...\n",
            "1       Petya/NotPetya  The Petya/NotPetya malware family is character...\n",
            "2                Locky  The Locky family of ransomware is known for it...\n",
            "3                 Ryuk  The Ryuk ransomware family is characterized by...\n",
            "4               Cerber  The Cerber ransomware family is known for its ...\n",
            "5               Emotet  The Emotet family of malware is known for its ...\n",
            "6          Zeus (Zbot)  The Zeus (Zbot) family of malware is known for...\n",
            "7             TrickBot  The TrickBot family is characterized by its mo...\n",
            "8               Dridex  Dridex is a sophisticated strain of banking ma...\n",
            "9                njRAT  The njRAT family is a type of Remote Access Tr...\n",
            "10           DarkComet  The DarkComet RAT (Remote Access Trojan) is a ...\n",
            "11               Mirai  The Mirai family is a notorious group of malwa...\n",
            "12              Necurs  The Necurs botnet family is a sophisticated an...\n",
            "13              Srizbi  The Srizbi botnet, known for being a highly so...\n",
            "14             Kelihos  The Kelihos family of malware is characterized...\n",
            "15           Conficker  The Conficker family of worms is characterized...\n",
            "16         SQL Slammer  The SQL Slammer worm, also known as Sapphire, ...\n",
            "17              Sasser  The Sasser family of worms, part of the malwar...\n",
            "18            ILOVEYOU  The ILOVEYOU family of malware is characterize...\n",
            "19            Fireball  The Fireball family of products is renowned fo...\n",
            "20               Gator  The Gator family, manufactured by John Deere, ...\n",
            "21          Virtumonde  The Virtumonde family, often referred to as Vu...\n",
            "22                Elex  The Elex family features a dynamic array of ro...\n",
            "23           FinFisher  The FinFisher, also known as FinSpy, is a fami...\n",
            "24             Pegasus  The Pegasus family of spyware, developed by th...\n",
            "25          AgentTesla  AgentTesla is a sophisticated form of spyware ...\n",
            "26             HawkEye  The HawkEye family is a sophisticated sports o...\n",
            "27      Alureon (TDL4)  The Alureon (TDL4) family, also known as TDSS ...\n",
            "28              Necurs  The Necurs malware family is known primarily f...\n",
            "29          ZeroAccess  The ZeroAccess family, also known as Sirefef, ...\n",
            "30   Powershell Empire  PowerShell Empire is a post-exploitation frame...\n",
            "31              Furtim  The Furtim family of malware is characterized ...\n",
            "32              Kovter  The Kovter malware family is distinguished by ...\n",
            "33  APT28 (Fancy Bear)  APT28, also known as Fancy Bear, is a highly s...\n",
            "34   APT29 (Cozy Bear)  APT29, also known as Cozy Bear, is a highly so...\n",
            "35       Lazarus Group  The Lazarus Group is a sophisticated and adapt...\n",
            "36            Carbanak  The Carbanak family of malware is a sophistica...\n",
            "Descriptions added and saved to malware_families_with_descriptions.csv\n"
          ]
        }
      ],
      "source": [
        "# Create a new DataFrame using the family names and descriptions lists\n",
        "data = {\n",
        "    'Family': family_list,\n",
        "    'Family Description': family_description_list\n",
        "}\n",
        "\n",
        "new_df = pd.DataFrame(data)\n",
        "\n",
        "# Display the DataFrame to ensure correctness\n",
        "print(new_df)\n",
        "\n",
        "#  save the DataFrame to a CSV file\n",
        "new_df.to_csv('malware_families_with_descriptions.csv', index=False)\n",
        "\n",
        "print(\"Descriptions added and saved to malware_families_with_descriptions.csv\")"
      ]
    },
    {
      "cell_type": "code",
      "execution_count": null,
      "metadata": {
        "id": "4S4A7OkxfHHx"
      },
      "outputs": [],
      "source": []
    }
  ],
  "metadata": {
    "colab": {
      "provenance": []
    },
    "kernelspec": {
      "display_name": "Python 3",
      "name": "python3"
    },
    "language_info": {
      "name": "python"
    }
  },
  "nbformat": 4,
  "nbformat_minor": 0
}
